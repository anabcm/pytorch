{
 "cells": [
  {
   "cell_type": "raw",
   "id": "d1b7778f-9476-4384-b0ee-13aae351534a",
   "metadata": {
    "jupyter": {
     "source_hidden": true
    }
   },
   "source": [
    "Pytorch"
   ]
  },
  {
   "cell_type": "code",
   "execution_count": 1,
   "id": "06a631d3-79df-4bb6-87c8-df5a2c83ae07",
   "metadata": {},
   "outputs": [
    {
     "name": "stdout",
     "output_type": "stream",
     "text": [
      "tensor([10.,  9.])\n"
     ]
    }
   ],
   "source": [
    "import torch\n",
    "x=torch.Tensor([5,3])\n",
    "y=torch.Tensor([2,3])\n",
    "print(x*y)"
   ]
  },
  {
   "cell_type": "code",
   "execution_count": 3,
   "id": "78b75e74-5da4-4cf4-82c2-0420ae114301",
   "metadata": {},
   "outputs": [],
   "source": [
    "x=torch.zeros([2,5])"
   ]
  },
  {
   "cell_type": "code",
   "execution_count": 4,
   "id": "046c6683-66d3-455c-9981-812bebbfd263",
   "metadata": {},
   "outputs": [
    {
     "name": "stdout",
     "output_type": "stream",
     "text": [
      "tensor([[0., 0., 0., 0., 0.],\n",
      "        [0., 0., 0., 0., 0.]])\n"
     ]
    }
   ],
   "source": [
    "print(x)"
   ]
  },
  {
   "cell_type": "code",
   "execution_count": 5,
   "id": "40319858-504e-4e84-9355-32599e111a39",
   "metadata": {},
   "outputs": [],
   "source": [
    "y=torch.rand([2,5])"
   ]
  },
  {
   "cell_type": "code",
   "execution_count": 6,
   "id": "28d1256d-0d35-40ce-972f-f938037bdee0",
   "metadata": {},
   "outputs": [
    {
     "data": {
      "text/plain": [
       "tensor([[0.0391, 0.6016, 0.0844, 0.8085, 0.6413],\n",
       "        [0.6364, 0.6110, 0.7151, 0.4314, 0.6533]])"
      ]
     },
     "execution_count": 6,
     "metadata": {},
     "output_type": "execute_result"
    }
   ],
   "source": [
    "y"
   ]
  },
  {
   "cell_type": "code",
   "execution_count": null,
   "id": "1e7544cc-1731-4449-a01e-9c08546eb0a7",
   "metadata": {},
   "outputs": [],
   "source": [
    "#no reshape will used view"
   ]
  },
  {
   "cell_type": "code",
   "execution_count": 7,
   "id": "7650bd22-b03a-417c-84d8-e1d661bd16d4",
   "metadata": {},
   "outputs": [
    {
     "data": {
      "text/plain": [
       "tensor([[0.0391, 0.6016, 0.0844, 0.8085, 0.6413, 0.6364, 0.6110, 0.7151, 0.4314,\n",
       "         0.6533]])"
      ]
     },
     "execution_count": 7,
     "metadata": {},
     "output_type": "execute_result"
    }
   ],
   "source": [
    "y.view([1,10])"
   ]
  },
  {
   "cell_type": "code",
   "execution_count": 9,
   "id": "f212a3bd-0358-4473-a2b6-7810f6d970d5",
   "metadata": {},
   "outputs": [],
   "source": [
    "y=y.view([1,10])"
   ]
  },
  {
   "cell_type": "code",
   "execution_count": 10,
   "id": "e004e6a6-8368-4639-9a96-217e12cbcc8c",
   "metadata": {},
   "outputs": [
    {
     "data": {
      "text/plain": [
       "tensor([[0.0391, 0.6016, 0.0844, 0.8085, 0.6413, 0.6364, 0.6110, 0.7151, 0.4314,\n",
       "         0.6533]])"
      ]
     },
     "execution_count": 10,
     "metadata": {},
     "output_type": "execute_result"
    }
   ],
   "source": [
    "y"
   ]
  },
  {
   "cell_type": "code",
   "execution_count": 11,
   "id": "f23b02b5-a943-4ddc-8f28-8ebfc088205a",
   "metadata": {},
   "outputs": [
    {
     "name": "stdout",
     "output_type": "stream",
     "text": [
      "Requirement already satisfied: torchvision in /usr/local/lib/python3.10/dist-packages (0.19.0+cpu)\n",
      "Requirement already satisfied: pillow!=8.3.*,>=5.3.0 in /usr/lib/python3/dist-packages (from torchvision) (9.0.1)\n",
      "Requirement already satisfied: numpy in /usr/local/lib/python3.10/dist-packages (from torchvision) (1.26.4)\n",
      "Requirement already satisfied: torch==2.4.0 in /usr/local/lib/python3.10/dist-packages (from torchvision) (2.4.0+cpu)\n",
      "Requirement already satisfied: sympy in /usr/local/lib/python3.10/dist-packages (from torch==2.4.0->torchvision) (1.12)\n",
      "Requirement already satisfied: jinja2 in /usr/local/lib/python3.10/dist-packages (from torch==2.4.0->torchvision) (3.1.4)\n",
      "Requirement already satisfied: typing-extensions>=4.8.0 in /usr/local/lib/python3.10/dist-packages (from torch==2.4.0->torchvision) (4.12.2)\n",
      "Requirement already satisfied: networkx in /usr/local/lib/python3.10/dist-packages (from torch==2.4.0->torchvision) (3.2.1)\n",
      "Requirement already satisfied: fsspec in /usr/local/lib/python3.10/dist-packages (from torch==2.4.0->torchvision) (2024.2.0)\n",
      "Requirement already satisfied: filelock in /usr/local/lib/python3.10/dist-packages (from torch==2.4.0->torchvision) (3.15.4)\n",
      "Requirement already satisfied: MarkupSafe>=2.0 in /usr/local/lib/python3.10/dist-packages (from jinja2->torch==2.4.0->torchvision) (2.1.5)\n",
      "Requirement already satisfied: mpmath>=0.19 in /usr/local/lib/python3.10/dist-packages (from sympy->torch==2.4.0->torchvision) (1.3.0)\n",
      "\u001b[33mWARNING: Running pip as the 'root' user can result in broken permissions and conflicting behaviour with the system package manager. It is recommended to use a virtual environment instead: https://pip.pypa.io/warnings/venv\u001b[0m\u001b[33m\n",
      "\u001b[0mNote: you may need to restart the kernel to use updated packages.\n"
     ]
    }
   ],
   "source": [
    "pip install torchvision"
   ]
  },
  {
   "cell_type": "code",
   "execution_count": 1,
   "id": "92e7d70e-9bc1-401d-8783-8294b2093e39",
   "metadata": {},
   "outputs": [],
   "source": [
    "import torch\n",
    "import torchvision\n",
    "from torchvision import transforms, datasets"
   ]
  },
  {
   "cell_type": "code",
   "execution_count": 2,
   "id": "2ae234f8-5ea6-40c2-8c5d-5a1a2d6470df",
   "metadata": {},
   "outputs": [
    {
     "name": "stdout",
     "output_type": "stream",
     "text": [
      "Downloading http://yann.lecun.com/exdb/mnist/train-images-idx3-ubyte.gz\n",
      "Failed to download (trying next):\n",
      "HTTP Error 403: Forbidden\n",
      "\n",
      "Downloading https://ossci-datasets.s3.amazonaws.com/mnist/train-images-idx3-ubyte.gz\n",
      "Downloading https://ossci-datasets.s3.amazonaws.com/mnist/train-images-idx3-ubyte.gz to MNIST/raw/train-images-idx3-ubyte.gz\n"
     ]
    },
    {
     "name": "stderr",
     "output_type": "stream",
     "text": [
      "100.0%\n"
     ]
    },
    {
     "name": "stdout",
     "output_type": "stream",
     "text": [
      "Extracting MNIST/raw/train-images-idx3-ubyte.gz to MNIST/raw\n",
      "\n",
      "Downloading http://yann.lecun.com/exdb/mnist/train-labels-idx1-ubyte.gz\n",
      "Failed to download (trying next):\n",
      "HTTP Error 403: Forbidden\n",
      "\n",
      "Downloading https://ossci-datasets.s3.amazonaws.com/mnist/train-labels-idx1-ubyte.gz\n",
      "Downloading https://ossci-datasets.s3.amazonaws.com/mnist/train-labels-idx1-ubyte.gz to MNIST/raw/train-labels-idx1-ubyte.gz\n"
     ]
    },
    {
     "name": "stderr",
     "output_type": "stream",
     "text": [
      "100.0%\n"
     ]
    },
    {
     "name": "stdout",
     "output_type": "stream",
     "text": [
      "Extracting MNIST/raw/train-labels-idx1-ubyte.gz to MNIST/raw\n",
      "\n",
      "Downloading http://yann.lecun.com/exdb/mnist/t10k-images-idx3-ubyte.gz\n",
      "Failed to download (trying next):\n",
      "HTTP Error 403: Forbidden\n",
      "\n",
      "Downloading https://ossci-datasets.s3.amazonaws.com/mnist/t10k-images-idx3-ubyte.gz\n",
      "Downloading https://ossci-datasets.s3.amazonaws.com/mnist/t10k-images-idx3-ubyte.gz to MNIST/raw/t10k-images-idx3-ubyte.gz\n"
     ]
    },
    {
     "name": "stderr",
     "output_type": "stream",
     "text": [
      "100.0%\n"
     ]
    },
    {
     "name": "stdout",
     "output_type": "stream",
     "text": [
      "Extracting MNIST/raw/t10k-images-idx3-ubyte.gz to MNIST/raw\n",
      "\n",
      "Downloading http://yann.lecun.com/exdb/mnist/t10k-labels-idx1-ubyte.gz\n",
      "Failed to download (trying next):\n",
      "HTTP Error 403: Forbidden\n",
      "\n",
      "Downloading https://ossci-datasets.s3.amazonaws.com/mnist/t10k-labels-idx1-ubyte.gz\n",
      "Downloading https://ossci-datasets.s3.amazonaws.com/mnist/t10k-labels-idx1-ubyte.gz to MNIST/raw/t10k-labels-idx1-ubyte.gz\n"
     ]
    },
    {
     "name": "stderr",
     "output_type": "stream",
     "text": [
      "100.0%"
     ]
    },
    {
     "name": "stdout",
     "output_type": "stream",
     "text": [
      "Extracting MNIST/raw/t10k-labels-idx1-ubyte.gz to MNIST/raw\n",
      "\n"
     ]
    },
    {
     "name": "stderr",
     "output_type": "stream",
     "text": [
      "\n"
     ]
    }
   ],
   "source": [
    "train=datasets.MNIST(\"\", train=True, download=True,transform=transforms.Compose([transforms.ToTensor()]))\n",
    "\n",
    "test=datasets.MNIST(\"\", train=False, download=True,transform=transforms.Compose([transforms.ToTensor()]))"
   ]
  },
  {
   "cell_type": "code",
   "execution_count": 4,
   "id": "5104b1fc-2cb7-4102-a493-8efb40fd283b",
   "metadata": {},
   "outputs": [],
   "source": [
    "trainset=torch.utils.data.DataLoader(train,batch_size=10,shuffle=10)\n",
    "testset=torch.utils.data.DataLoader(test,batch_size=10,shuffle=10)"
   ]
  },
  {
   "cell_type": "code",
   "execution_count": 5,
   "id": "3740f40a-17a6-4db1-8588-e1aa6d04c187",
   "metadata": {},
   "outputs": [
    {
     "name": "stdout",
     "output_type": "stream",
     "text": [
      "[tensor([[[[0.0000, 0.0000, 0.0000,  ..., 0.0000, 0.0000, 0.0000],\n",
      "          [0.0000, 0.0000, 0.0000,  ..., 0.0000, 0.0000, 0.0000],\n",
      "          [0.0000, 0.0000, 0.0000,  ..., 0.0000, 0.0000, 0.0000],\n",
      "          ...,\n",
      "          [0.0000, 0.0000, 0.0000,  ..., 0.0000, 0.0000, 0.0000],\n",
      "          [0.0000, 0.0000, 0.0000,  ..., 0.0000, 0.0000, 0.0000],\n",
      "          [0.0000, 0.0000, 0.0000,  ..., 0.0000, 0.0000, 0.0000]]],\n",
      "\n",
      "\n",
      "        [[[0.0000, 0.0000, 0.0000,  ..., 0.0000, 0.0000, 0.0000],\n",
      "          [0.0000, 0.0000, 0.0000,  ..., 0.0000, 0.0000, 0.0000],\n",
      "          [0.0000, 0.0000, 0.0000,  ..., 0.0000, 0.0000, 0.0000],\n",
      "          ...,\n",
      "          [0.0000, 0.0000, 0.0000,  ..., 0.0000, 0.0000, 0.0000],\n",
      "          [0.0000, 0.0000, 0.0000,  ..., 0.0000, 0.0000, 0.0000],\n",
      "          [0.0000, 0.0000, 0.0000,  ..., 0.0000, 0.0000, 0.0000]]],\n",
      "\n",
      "\n",
      "        [[[0.0000, 0.0000, 0.0000,  ..., 0.0000, 0.0000, 0.0000],\n",
      "          [0.0000, 0.0000, 0.0000,  ..., 0.0000, 0.0000, 0.0000],\n",
      "          [0.0000, 0.0000, 0.0000,  ..., 0.0000, 0.0000, 0.0000],\n",
      "          ...,\n",
      "          [0.0000, 0.0000, 0.0000,  ..., 0.0000, 0.0000, 0.0000],\n",
      "          [0.0000, 0.0000, 0.0000,  ..., 0.0000, 0.0000, 0.0000],\n",
      "          [0.0000, 0.0000, 0.0000,  ..., 0.0000, 0.0000, 0.0000]]],\n",
      "\n",
      "\n",
      "        ...,\n",
      "\n",
      "\n",
      "        [[[0.0000, 0.0000, 0.0000,  ..., 0.0000, 0.0000, 0.0000],\n",
      "          [0.0000, 0.0000, 0.0000,  ..., 0.0000, 0.0000, 0.0000],\n",
      "          [0.0000, 0.0000, 0.0000,  ..., 0.0000, 0.0000, 0.0000],\n",
      "          ...,\n",
      "          [0.0000, 0.0000, 0.0000,  ..., 0.0000, 0.0000, 0.0000],\n",
      "          [0.0000, 0.0000, 0.0000,  ..., 0.0000, 0.0000, 0.0000],\n",
      "          [0.0000, 0.0000, 0.0000,  ..., 0.0000, 0.0000, 0.0000]]],\n",
      "\n",
      "\n",
      "        [[[0.0000, 0.0000, 0.0000,  ..., 0.0000, 0.0000, 0.0000],\n",
      "          [0.0000, 0.0000, 0.0000,  ..., 0.0000, 0.0000, 0.0000],\n",
      "          [0.0000, 0.0000, 0.0000,  ..., 0.0000, 0.0000, 0.0000],\n",
      "          ...,\n",
      "          [0.0000, 0.0000, 0.0000,  ..., 0.0000, 0.0000, 0.0000],\n",
      "          [0.0000, 0.0000, 0.0000,  ..., 0.0000, 0.0000, 0.0000],\n",
      "          [0.0000, 0.0000, 0.0000,  ..., 0.0000, 0.0000, 0.0000]]],\n",
      "\n",
      "\n",
      "        [[[0.0000, 0.0000, 0.0000,  ..., 0.0000, 0.0000, 0.0000],\n",
      "          [0.0000, 0.0000, 0.0000,  ..., 0.0000, 0.0000, 0.0000],\n",
      "          [0.0000, 0.0000, 0.0000,  ..., 0.2157, 0.0000, 0.0000],\n",
      "          ...,\n",
      "          [0.0000, 0.0000, 0.0000,  ..., 0.0000, 0.0000, 0.0000],\n",
      "          [0.0000, 0.0000, 0.0000,  ..., 0.0000, 0.0000, 0.0000],\n",
      "          [0.0000, 0.0000, 0.0000,  ..., 0.0000, 0.0000, 0.0000]]]]), tensor([2, 5, 4, 7, 9, 9, 6, 0, 1, 6])]\n"
     ]
    }
   ],
   "source": [
    "for data in trainset:\n",
    "    print(data)\n",
    "    break"
   ]
  },
  {
   "cell_type": "code",
   "execution_count": 6,
   "id": "484f68ac-0b24-4b95-80c1-2f0043439cd9",
   "metadata": {},
   "outputs": [
    {
     "name": "stdout",
     "output_type": "stream",
     "text": [
      "tensor(2)\n"
     ]
    }
   ],
   "source": [
    "x,y= data[0][0],data[1][0]\n",
    "print(y)"
   ]
  },
  {
   "cell_type": "code",
   "execution_count": 7,
   "id": "868211e7-8f53-4c24-8fc1-14b7d63bc333",
   "metadata": {},
   "outputs": [],
   "source": [
    "import matplotlib.pyplot as plt\n"
   ]
  },
  {
   "cell_type": "code",
   "execution_count": 11,
   "id": "5fa7fb30-d450-4733-a772-57cb2ba1b2cd",
   "metadata": {},
   "outputs": [
    {
     "data": {
      "image/png": "[encoded data removed]",
      "text/plain": [
       "<Figure size 640x480 with 1 Axes>"
      ]
     },
     "metadata": {},
     "output_type": "display_data"
    }
   ],
   "source": [
    "plt.imshow(data[0][0].view(28,28))\n",
    "plt.show()"
   ]
  },
  {
   "cell_type": "code",
   "execution_count": 9,
   "id": "111d0e2a-65a7-489f-9545-037df5917677",
   "metadata": {},
   "outputs": [
    {
     "name": "stdout",
     "output_type": "stream",
     "text": [
      "torch.Size([1, 28, 28])\n"
     ]
    }
   ],
   "source": [
    "print(data[0][0].shape)"
   ]
  },
  {
   "cell_type": "code",
   "execution_count": 14,
   "id": "89ab10fc-fcf9-47c6-8bc7-ff798f8f4976",
   "metadata": {},
   "outputs": [
    {
     "name": "stdout",
     "output_type": "stream",
     "text": [
      "{0: 5923, 1: 6742, 2: 5958, 3: 6131, 4: 5842, 5: 5421, 6: 5918, 7: 6265, 8: 5851, 9: 5949}\n"
     ]
    }
   ],
   "source": [
    "total=0\n",
    "counter_dict={0:0,1:0,2:0,3:0,4:0,5:0,6:0,7:0,8:0,9:0}\n",
    "\n",
    "for data in trainset:\n",
    "    Xs,ys=data\n",
    "    for y in ys:\n",
    "        counter_dict[int(y)]+=1\n",
    "        total+=1\n",
    "print (counter_dict)"
   ]
  },
  {
   "cell_type": "code",
   "execution_count": 16,
   "id": "fdaad728-4060-4147-b121-60a8f560e5c1",
   "metadata": {},
   "outputs": [
    {
     "name": "stdout",
     "output_type": "stream",
     "text": [
      "0:9.871666666666666\n",
      "1:11.236666666666666\n",
      "2:9.93\n",
      "3:10.218333333333334\n",
      "4:9.736666666666666\n",
      "5:9.035\n",
      "6:9.863333333333333\n",
      "7:10.441666666666666\n",
      "8:9.751666666666667\n",
      "9:9.915000000000001\n"
     ]
    }
   ],
   "source": [
    "#porcentaje de la distribucion para ver el balance de las clases\n",
    "\n",
    "for i in counter_dict:\n",
    "    print(f\"{i}:{counter_dict[i]/total*100}\")"
   ]
  },
  {
   "cell_type": "code",
   "execution_count": 18,
   "id": "bbcd7f37-db27-4fbd-8bb1-4bf06a8b6dd9",
   "metadata": {},
   "outputs": [],
   "source": [
    "#build the model\n",
    "import torch.nn as nn\n",
    "import torch.nn.functional as F\n"
   ]
  },
  {
   "cell_type": "code",
   "execution_count": 22,
   "id": "ac993bc3-0017-4d0c-afef-09839bc96b02",
   "metadata": {},
   "outputs": [
    {
     "name": "stdout",
     "output_type": "stream",
     "text": [
      "Net(\n",
      "  (fc1): Linear(in_features=784, out_features=64, bias=True)\n",
      "  (fc2): Linear(in_features=64, out_features=64, bias=True)\n",
      "  (fc3): Linear(in_features=64, out_features=64, bias=True)\n",
      "  (fc4): Linear(in_features=64, out_features=10, bias=True)\n",
      ")\n"
     ]
    }
   ],
   "source": [
    "#contruyendo la clase para la RNA\n",
    "class Net(nn.Module):\n",
    "    def __init__(self):\n",
    "        super().__init__()\n",
    "        self.fc1=nn.Linear(28*28, 64)#tipo de funcion\n",
    "        self.fc2=nn.Linear(64, 64)#la entrada es 64 por la capa anterior\n",
    "        self.fc3=nn.Linear(64, 64)\n",
    "        self.fc4=nn.Linear(64, 10)#la salida es 10 por el numero de clases que tenemos\n",
    "        \n",
    "    def forward(self,x):\n",
    "        x=F.relu(self.fc1(x))#Rectifier \n",
    "        x=F.relu(self.fc2(x)) #ReLU (rectified linear unit)\n",
    "        x=F.relu(self.fc3(x))\n",
    "        x=self.fc4(x)      \n",
    "        return F.log_softmax(x,dim=1)\n",
    "\n",
    "\n",
    "        \n",
    "\n",
    "\n",
    "    \n",
    "    \n",
    "net=Net()\n",
    "print(net)"
   ]
  },
  {
   "cell_type": "code",
   "execution_count": 29,
   "id": "7c8d0256-88be-45e7-aba9-eafbb19323a2",
   "metadata": {},
   "outputs": [],
   "source": [
    "X= torch.rand((28,28))\n",
    "X=X.view(-1,28*28)"
   ]
  },
  {
   "cell_type": "code",
   "execution_count": 30,
   "id": "5489f63a-edf0-4a26-a1c6-96bff615ff61",
   "metadata": {},
   "outputs": [],
   "source": [
    "output=net(X)"
   ]
  },
  {
   "cell_type": "code",
   "execution_count": 31,
   "id": "b09e779e-2fdc-4e0c-ade6-8c02075abca6",
   "metadata": {},
   "outputs": [
    {
     "data": {
      "text/plain": [
       "tensor([[-2.3346, -2.2519, -2.2300, -2.3874, -2.3785, -2.2235, -2.4166, -2.2605,\n",
       "         -2.3319, -2.2348]], grad_fn=<LogSoftmaxBackward0>)"
      ]
     },
     "execution_count": 31,
     "metadata": {},
     "output_type": "execute_result"
    }
   ],
   "source": [
    "output"
   ]
  },
  {
   "cell_type": "code",
   "execution_count": 42,
   "id": "a197f605-bf5b-4c46-8b79-a924fa6db4a6",
   "metadata": {},
   "outputs": [
    {
     "name": "stdout",
     "output_type": "stream",
     "text": [
      "tensor(0.0170, grad_fn=<NllLossBackward0>)\n",
      "tensor(0.0287, grad_fn=<NllLossBackward0>)\n",
      "tensor(0.0034, grad_fn=<NllLossBackward0>)\n"
     ]
    }
   ],
   "source": [
    "#AHORA TRABAJAREMOS CON LOS DATOS\n",
    "\n",
    "import torch.optim as optim\n",
    "optimizer=optim.Adam(net.parameters(),lr=0.001) #lr learning rate step\n",
    "EPOCHS=3\n",
    "\n",
    "for epoch in range(EPOCHS):\n",
    "    for data in trainset:\n",
    "        X,y=data\n",
    "        net.zero_grad() #\n",
    "        output=net(X.view(-1,28*28))\n",
    "        loss= F.nll_loss(output,y) #The negative log likelihood loss\n",
    "        #backpropagation the error\n",
    "        loss.backward()\n",
    "        optimizer.step()\n",
    "    print(loss)\n",
    "        "
   ]
  },
  {
   "cell_type": "code",
   "execution_count": 44,
   "id": "819c78ea-cfc3-4cbb-8ae8-fbd99427aba6",
   "metadata": {},
   "outputs": [
    {
     "name": "stdout",
     "output_type": "stream",
     "text": [
      "Accuracy:  0.984\n"
     ]
    }
   ],
   "source": [
    "correct=0\n",
    "total=0\n",
    "\n",
    "with torch.no_grad():\n",
    "    for data in trainset:\n",
    "        X,y=data\n",
    "        output=net(X.view(-1,28*28))\n",
    "        for idx, i in enumerate(output):\n",
    "            if torch.argmax(i)==y[idx]:\n",
    "                correct+=1\n",
    "            total+=1\n",
    "print(\"Accuracy: \", round(correct/total,3))\n",
    "\n"
   ]
  },
  {
   "cell_type": "code",
   "execution_count": 45,
   "id": "eca4701a-f4c8-4246-929d-6ccdbbe96faf",
   "metadata": {},
   "outputs": [
    {
     "data": {
      "text/plain": [
       "tensor([[[[0., 0., 0.,  ..., 0., 0., 0.],\n",
       "          [0., 0., 0.,  ..., 0., 0., 0.],\n",
       "          [0., 0., 0.,  ..., 0., 0., 0.],\n",
       "          ...,\n",
       "          [0., 0., 0.,  ..., 0., 0., 0.],\n",
       "          [0., 0., 0.,  ..., 0., 0., 0.],\n",
       "          [0., 0., 0.,  ..., 0., 0., 0.]]],\n",
       "\n",
       "\n",
       "        [[[0., 0., 0.,  ..., 0., 0., 0.],\n",
       "          [0., 0., 0.,  ..., 0., 0., 0.],\n",
       "          [0., 0., 0.,  ..., 0., 0., 0.],\n",
       "          ...,\n",
       "          [0., 0., 0.,  ..., 0., 0., 0.],\n",
       "          [0., 0., 0.,  ..., 0., 0., 0.],\n",
       "          [0., 0., 0.,  ..., 0., 0., 0.]]],\n",
       "\n",
       "\n",
       "        [[[0., 0., 0.,  ..., 0., 0., 0.],\n",
       "          [0., 0., 0.,  ..., 0., 0., 0.],\n",
       "          [0., 0., 0.,  ..., 0., 0., 0.],\n",
       "          ...,\n",
       "          [0., 0., 0.,  ..., 0., 0., 0.],\n",
       "          [0., 0., 0.,  ..., 0., 0., 0.],\n",
       "          [0., 0., 0.,  ..., 0., 0., 0.]]],\n",
       "\n",
       "\n",
       "        ...,\n",
       "\n",
       "\n",
       "        [[[0., 0., 0.,  ..., 0., 0., 0.],\n",
       "          [0., 0., 0.,  ..., 0., 0., 0.],\n",
       "          [0., 0., 0.,  ..., 0., 0., 0.],\n",
       "          ...,\n",
       "          [0., 0., 0.,  ..., 0., 0., 0.],\n",
       "          [0., 0., 0.,  ..., 0., 0., 0.],\n",
       "          [0., 0., 0.,  ..., 0., 0., 0.]]],\n",
       "\n",
       "\n",
       "        [[[0., 0., 0.,  ..., 0., 0., 0.],\n",
       "          [0., 0., 0.,  ..., 0., 0., 0.],\n",
       "          [0., 0., 0.,  ..., 0., 0., 0.],\n",
       "          ...,\n",
       "          [0., 0., 0.,  ..., 0., 0., 0.],\n",
       "          [0., 0., 0.,  ..., 0., 0., 0.],\n",
       "          [0., 0., 0.,  ..., 0., 0., 0.]]],\n",
       "\n",
       "\n",
       "        [[[0., 0., 0.,  ..., 0., 0., 0.],\n",
       "          [0., 0., 0.,  ..., 0., 0., 0.],\n",
       "          [0., 0., 0.,  ..., 0., 0., 0.],\n",
       "          ...,\n",
       "          [0., 0., 0.,  ..., 0., 0., 0.],\n",
       "          [0., 0., 0.,  ..., 0., 0., 0.],\n",
       "          [0., 0., 0.,  ..., 0., 0., 0.]]]])"
      ]
     },
     "execution_count": 45,
     "metadata": {},
     "output_type": "execute_result"
    }
   ],
   "source": [
    "X"
   ]
  },
  {
   "cell_type": "code",
   "execution_count": 57,
   "id": "249a43ac-34d6-41b4-8d00-c802e1910a78",
   "metadata": {},
   "outputs": [
    {
     "data": {
      "image/png": "[encoded data removed]",
      "text/plain": [
       "<Figure size 640x480 with 1 Axes>"
      ]
     },
     "metadata": {},
     "output_type": "display_data"
    }
   ],
   "source": [
    "import matplotlib.pyplot as plt\n",
    "plt.imshow(X[8].view(28,28))\n",
    "plt.show()"
   ]
  },
  {
   "cell_type": "code",
   "execution_count": 59,
   "id": "655ab2b9-0ce2-4a1b-bff0-ae988597597b",
   "metadata": {},
   "outputs": [
    {
     "name": "stdout",
     "output_type": "stream",
     "text": [
      "tensor(7)\n"
     ]
    }
   ],
   "source": [
    "print(torch.argmax(net(X[8].view(-1,28*28))[0]))\n",
    "\n",
    "#EL indice de X indica la muestra y respuesta\n",
    "#el numero de tensor es la respuesta de la clasificación"
   ]
  },
  {
   "cell_type": "code",
   "execution_count": 14,
   "id": "c265620b-01fe-4d8f-989f-736615a0114e",
   "metadata": {},
   "outputs": [],
   "source": [
    "#ahora con redes neuronales convolucionales\n",
    "#https://www.microsoft.com/en-us/download/details.aspx?id=54765\n",
    "\n",
    "import os\n",
    "import cv2\n",
    "import numpy as np\n",
    "from tqdm import tqdm\n",
    "REBUILD_DATA=False"
   ]
  },
  {
   "cell_type": "code",
   "execution_count": 2,
   "id": "5530b16a-14f0-4c7e-a590-65748f49d44c",
   "metadata": {
    "scrolled": true
   },
   "outputs": [
    {
     "name": "stdout",
     "output_type": "stream",
     "text": [
      "\u001b[31mERROR: Could not find a version that satisfies the requirement cv2 (from versions: none)\u001b[0m\u001b[31m\n",
      "\u001b[0m\u001b[31mERROR: No matching distribution found for cv2\u001b[0m\u001b[31m\n",
      "\u001b[0mNote: you may need to restart the kernel to use updated packages.\n"
     ]
    }
   ],
   "source": [
    "pip install cv2\n"
   ]
  },
  {
   "cell_type": "code",
   "execution_count": 46,
   "id": "9ebdaf90-4efc-4e03-b93f-1b4dcbff1b20",
   "metadata": {},
   "outputs": [],
   "source": [
    "\n",
    "\n",
    "class DogsVSCats():\n",
    "    IMG_SIZE=50\n",
    "    CATS=\"/media/anabcm/Nuevo vol/descargas/kagglecatsanddogs_5340/PetImages/Cat/\"\n",
    "    DOGS=\"/media/anabcm/Nuevo vol/descargas/kagglecatsanddogs_5340/PetImages/Dog/\"\n",
    "    LABELS={CATS:0, DOGS:1}\n",
    "    training_data=[]\n",
    "    catcount=0\n",
    "    dogcount=0\n",
    "#reescalando las imagenes, transformando y quitando color\n",
    "    def make_training_data(self):\n",
    "        for label in self.LABELS:\n",
    "            print(label)\n",
    "            for f in tqdm(os.listdir(label)):\n",
    "                try: #en caso de que la imagen este en malas condiciones\n",
    "                    path=os.path.join(label,f)\n",
    "                   \n",
    "                    img=cv2.imread(path,cv2.IMREAD_GRAYSCALE)\n",
    "                    img=cv2.resize(img,(self.IMG_SIZE,self.IMG_SIZE))\n",
    "                    self.training_data.append([np.array(img),np.eye(2)[self.LABELS[label]]])\n",
    "                    if label==self.CATS:\n",
    "                        self.catcount+=1\n",
    "                    elif label==self.DOGS:\n",
    "                        self.dogcount+=1\n",
    "                except Exception as e:\n",
    "                    pass\n",
    "        print(\"Cats:\", self.catcount)\n",
    "        print(\"Dogs:\", self.dogcount)\n",
    "        print(type(self.training_data))\n",
    "        np.random.shuffle(self.training_data)\n",
    "        np.save(\"training_data.npy\",self.training_data)\n",
    "        \n",
    "\n"
   ]
  },
  {
   "cell_type": "code",
   "execution_count": 47,
   "id": "cf3708e8-98c9-49d4-9670-e51ed45130db",
   "metadata": {},
   "outputs": [],
   "source": [
    "class DogsVSCats():\n",
    "    IMG_SIZE = 50\n",
    "    CATS=\"/media/anabcm/Nuevo vol/descargas/kagglecatsanddogs_5340/PetImages/Cat/\"\n",
    "    DOGS=\"/media/anabcm/Nuevo vol/descargas/kagglecatsanddogs_5340/PetImages/Dog/\"\n",
    "    LABELS = {CATS: 0, DOGS: 1}\n",
    "    training_data = []\n",
    "\n",
    "    catcount = 0\n",
    "    dogcount = 0\n",
    "\n",
    "    def make_training_data(self):\n",
    "        for label in self.LABELS:\n",
    "            print(label)\n",
    "            for f in tqdm(os.listdir(label)):\n",
    "                if \"jpg\" in f:\n",
    "                    try:\n",
    "                        path = os.path.join(label, f)\n",
    "                        img = cv2.imread(path, cv2.IMREAD_GRAYSCALE)\n",
    "                        img = cv2.resize(img, (self.IMG_SIZE, self.IMG_SIZE))\n",
    "                        self.training_data.append([np.array(img), np.eye(2)[self.LABELS[label]]])  # do something like print(np.eye(2)[1]), just makes one_hot \n",
    "                        #print(np.eye(2)[self.LABELS[label]])\n",
    "\n",
    "                        if label == self.CATS:\n",
    "                            self.catcount += 1\n",
    "                        elif label == self.DOGS:\n",
    "                            self.dogcount += 1\n",
    "\n",
    "                    except Exception as e:\n",
    "                        pass\n",
    "                        #print(label, f, str(e))\n",
    "\n",
    "        np.random.shuffle(self.training_data)\n",
    "        print(len(self.training_data))\n",
    "        print(len(self.training_data[0]))\n",
    "        self.training_data= np.array(self.training_data, dtype=object)\n",
    "        np.save(\"training_data.npy\", self.training_data)\n",
    "        print('Cats:',self.catcount)\n",
    "        print('Dogs:',self.dogcount)"
   ]
  },
  {
   "cell_type": "code",
   "execution_count": 48,
   "id": "325239ce-380b-4ccf-8915-5a67841bd9b5",
   "metadata": {
    "collapsed": true,
    "jupyter": {
     "outputs_hidden": true
    },
    "scrolled": true
   },
   "outputs": [
    {
     "name": "stdout",
     "output_type": "stream",
     "text": [
      "/media/anabcm/Nuevo vol/descargas/kagglecatsanddogs_5340/PetImages/Cat/\n"
     ]
    },
    {
     "name": "stderr",
     "output_type": "stream",
     "text": [
      " 21%|███████▌                            | 2621/12501 [00:01<00:06, 1612.03it/s]Corrupt JPEG data: 239 extraneous bytes before marker 0xd9\n",
      " 24%|████████▌                           | 2991/12501 [00:02<00:05, 1723.27it/s]Corrupt JPEG data: 214 extraneous bytes before marker 0xd9\n",
      " 25%|█████████                           | 3165/12501 [00:02<00:06, 1478.56it/s]Corrupt JPEG data: 128 extraneous bytes before marker 0xd9\n",
      " 68%|████████████████████████▌           | 8536/12501 [00:05<00:02, 1849.95it/s]Corrupt JPEG data: 99 extraneous bytes before marker 0xd9\n",
      " 74%|██████████████████████████▊         | 9296/12501 [00:06<00:01, 1860.08it/s]Corrupt JPEG data: 1153 extraneous bytes before marker 0xd9\n",
      "100%|███████████████████████████████████| 12501/12501 [00:07<00:00, 1590.51it/s]\n"
     ]
    },
    {
     "name": "stdout",
     "output_type": "stream",
     "text": [
      "/media/anabcm/Nuevo vol/descargas/kagglecatsanddogs_5340/PetImages/Dog/\n"
     ]
    },
    {
     "name": "stderr",
     "output_type": "stream",
     "text": [
      " 19%|██████▋                             | 2317/12501 [00:01<00:05, 1767.11it/s]Corrupt JPEG data: 399 extraneous bytes before marker 0xd9\n",
      " 39%|█████████████▉                      | 4851/12501 [00:02<00:04, 1777.20it/s]Corrupt JPEG data: 226 extraneous bytes before marker 0xd9\n",
      " 49%|█████████████████▌                  | 6103/12501 [00:03<00:03, 1753.80it/s]Corrupt JPEG data: 162 extraneous bytes before marker 0xd9\n",
      "Warning: unknown JFIF revision number 0.00\n",
      " 50%|██████████████████                  | 6288/12501 [00:03<00:03, 1780.69it/s]Corrupt JPEG data: 1403 extraneous bytes before marker 0xd9\n",
      " 63%|██████████████████████▋             | 7877/12501 [00:04<00:02, 1770.30it/s]Corrupt JPEG data: 254 extraneous bytes before marker 0xd9\n",
      " 73%|██████████████████████████▏         | 9101/12501 [00:05<00:02, 1621.05it/s]Corrupt JPEG data: 2230 extraneous bytes before marker 0xd9\n",
      " 78%|████████████████████████████▏       | 9795/12501 [00:05<00:01, 1710.98it/s]Corrupt JPEG data: 65 extraneous bytes before marker 0xd9\n",
      "100%|███████████████████████████████████| 12501/12501 [00:07<00:00, 1741.94it/s]\n"
     ]
    },
    {
     "name": "stdout",
     "output_type": "stream",
     "text": [
      "24946\n",
      "2\n",
      "Cats: 12476\n",
      "Dogs: 12470\n"
     ]
    }
   ],
   "source": [
    "if REBUILD_DATA:\n",
    "    dogsvscats=DogsVSCats()\n",
    "    dogsvscats.make_training_data()"
   ]
  },
  {
   "cell_type": "code",
   "execution_count": 49,
   "id": "e7c8ab40-fd51-4b03-99a9-f437b9955219",
   "metadata": {
    "collapsed": true,
    "jupyter": {
     "outputs_hidden": true,
     "source_hidden": true
    }
   },
   "outputs": [
    {
     "ename": "SyntaxError",
     "evalue": "invalid syntax (4116988557.py, line 1)",
     "output_type": "error",
     "traceback": [
      "\u001b[0;36m  Cell \u001b[0;32mIn[49], line 1\u001b[0;36m\u001b[0m\n\u001b[0;31m    pip install opencv-python\u001b[0m\n\u001b[0m        ^\u001b[0m\n\u001b[0;31mSyntaxError\u001b[0m\u001b[0;31m:\u001b[0m invalid syntax\n"
     ]
    }
   ],
   "source": [
    "pip install opencv-python\n",
    "#for install cv2"
   ]
  },
  {
   "cell_type": "code",
   "execution_count": 51,
   "id": "95ae545c-5496-46b3-80fa-2b1ad0cdfc83",
   "metadata": {},
   "outputs": [],
   "source": [
    "training_data=np.load(\"training_data.npy\",allow_pickle=True)"
   ]
  },
  {
   "cell_type": "code",
   "execution_count": 52,
   "id": "147ca98b-b49e-4eb4-8603-9b8a0a62618a",
   "metadata": {},
   "outputs": [
    {
     "name": "stdout",
     "output_type": "stream",
     "text": [
      "24946\n"
     ]
    }
   ],
   "source": [
    "print(len(training_data))\n"
   ]
  },
  {
   "cell_type": "code",
   "execution_count": 53,
   "id": "5e3ff454-8924-4724-8545-f8750e4147e3",
   "metadata": {},
   "outputs": [
    {
     "name": "stdout",
     "output_type": "stream",
     "text": [
      "[array([[137, 141, 207, ...,  66, 189, 198],\n",
      "        [113, 120, 107, ..., 166,  84, 148],\n",
      "        [163, 182, 123, ..., 178, 115, 107],\n",
      "        ...,\n",
      "        [ 69,  34,  28, ..., 101,  96,  92],\n",
      "        [199, 197, 204, ..., 103,  94,  80],\n",
      "        [210, 204, 219, ..., 104,  95,  92]], dtype=uint8) array([0., 1.])]\n"
     ]
    }
   ],
   "source": [
    "print(training_data[0])"
   ]
  },
  {
   "cell_type": "code",
   "execution_count": 56,
   "id": "4577f6e3-e272-4853-b3c3-e0446ef08b4e",
   "metadata": {},
   "outputs": [
    {
     "data": {
      "image/png": "[encoded data removed]",
      "text/plain": [
       "<Figure size 640x480 with 1 Axes>"
      ]
     },
     "metadata": {},
     "output_type": "display_data"
    }
   ],
   "source": [
    "import matplotlib.pyplot as plt\n",
    "plt.imshow(training_data[1][0],cmap=\"gray\")\n",
    "plt.show()"
   ]
  },
  {
   "cell_type": "code",
   "execution_count": 57,
   "id": "a4aee713-75aa-4ac2-91cc-c9f2751b060f",
   "metadata": {},
   "outputs": [
    {
     "data": {
      "text/plain": [
       "array([1., 0.])"
      ]
     },
     "execution_count": 57,
     "metadata": {},
     "output_type": "execute_result"
    }
   ],
   "source": [
    "training_data[1][1]"
   ]
  },
  {
   "cell_type": "code",
   "execution_count": 18,
   "id": "b9706974-4e85-4df6-86cb-73ffd9950f8e",
   "metadata": {},
   "outputs": [],
   "source": [
    "import torch\n",
    "import torch.nn as nn\n",
    "import torch.nn.functional as F\n",
    "import numpy as np\n",
    "from tqdm import tqdm\n",
    "\n",
    "class Net(nn.Module):\n",
    "    def __init__(self):\n",
    "        super().__init__()\n",
    "        self.conv1=nn.Conv2d(1,32,5)\n",
    "        self.conv2=nn.Conv2d(32,64,5)\n",
    "        self.conv3=nn.Conv2d(64,128,5)\n",
    "        x= torch.randn(50,50).view(-1,1,50,50)\n",
    "        self._to_linear=None\n",
    "        self.convs(x)\n",
    "\n",
    "       # self.fc1=nn.Linear(-1,512)\n",
    "       # self.fc2=nn.Linear(512,2)\n",
    "    \n",
    "        self.fc1 = nn.Linear(self._to_linear, 512) #flattening.\n",
    "        self.fc2 = nn.Linear(512, 2) # 512 in, 2 out bc we're doing 2 classes (dog vs cat).\n",
    "        \n",
    "    def convs(self,x):\n",
    "        x=F.max_pool2d(F.relu(self.conv1(x)),(2,2))\n",
    "        x=F.max_pool2d(F.relu(self.conv2(x)),(2,2))\n",
    "        x=F.max_pool2d(F.relu(self.conv3(x)),(2,2))\n",
    "        #print(x[0].shape)\n",
    "        if self._to_linear is None:\n",
    "            self._to_linear=x[0].shape[0]*x[0].shape[1]*x[0].shape[2]\n",
    "        return x\n",
    "        \n",
    "    def forward(self,x):\n",
    "        x=self.convs(x)\n",
    "        x=x.view(-1,self._to_linear)\n",
    "        x=F.relu(self.fc1(x))\n",
    "        x=self.fc2(x)\n",
    "        return F.softmax(x,dim=1)\n",
    "\n",
    "\n",
    "training_data=np.load(\"training_data.npy\",allow_pickle=True)        \n",
    "net=Net()"
   ]
  },
  {
   "cell_type": "code",
   "execution_count": 19,
   "id": "db0b898d-0605-4bce-94b4-58e4ebcd7851",
   "metadata": {},
   "outputs": [
    {
     "name": "stdout",
     "output_type": "stream",
     "text": [
      "2494\n"
     ]
    }
   ],
   "source": [
    "import torch.optim as optim\n",
    "optimizer=optim.Adam(net.parameters(),lr=0.001)\n",
    "loss_function=nn.MSELoss()\n",
    "X=torch.Tensor([i[0] for i in training_data]).view(-1,50,50)\n",
    "X=X/255.0\n",
    "y=torch.Tensor([i[1] for i in training_data])\n",
    "VAL_PCT=0.1\n",
    "val_size=int(len(X)*VAL_PCT)\n",
    "print(val_size)"
   ]
  },
  {
   "cell_type": "code",
   "execution_count": 20,
   "id": "4bce2ca5-ea52-43b0-981b-a08d3b034efd",
   "metadata": {},
   "outputs": [
    {
     "name": "stdout",
     "output_type": "stream",
     "text": [
      "22452\n",
      "2494\n"
     ]
    }
   ],
   "source": [
    "train_X=X[:-val_size]\n",
    "train_y=y[:-val_size]\n",
    "\n",
    "test_x=X[-val_size:]\n",
    "test_y=y[-val_size:]\n",
    "\n",
    "print(len(train_X))\n",
    "print(len(test_x))"
   ]
  },
  {
   "cell_type": "code",
   "execution_count": 21,
   "id": "587a52d0-e914-4f37-8259-52b01dc63a02",
   "metadata": {
    "scrolled": true
   },
   "outputs": [
    {
     "name": "stderr",
     "output_type": "stream",
     "text": [
      "100%|█████████████████████████████████████████| 225/225 [00:59<00:00,  3.78it/s]"
     ]
    },
    {
     "name": "stdout",
     "output_type": "stream",
     "text": [
      "tensor(0.2065, grad_fn=<MseLossBackward0>)\n"
     ]
    },
    {
     "name": "stderr",
     "output_type": "stream",
     "text": [
      "\n"
     ]
    }
   ],
   "source": [
    "#for the training set\n",
    "BATCH_SIZE=100\n",
    "EPOCHS=1\n",
    "for epoch in range(EPOCHS):\n",
    "    for i in tqdm(range(0, len(train_X),BATCH_SIZE)):\n",
    "        #print(i,i+BATCH_SIZE)\n",
    "        batch_X=train_X[i:i+BATCH_SIZE].view(-1,1,50,50)\n",
    "        batch_y=train_y[i:i+BATCH_SIZE]\n",
    "        net.zero_grad()\n",
    "        outputs=net(batch_X)\n",
    "        loss=loss_function(outputs,batch_y)\n",
    "        loss.backward()\n",
    "        optimizer.step()\n",
    "print(loss)"
   ]
  },
  {
   "cell_type": "code",
   "execution_count": 22,
   "id": "d7372295-288d-4991-9eb7-8c08c06882c7",
   "metadata": {},
   "outputs": [
    {
     "name": "stderr",
     "output_type": "stream",
     "text": [
      "100%|██████████████████████████████████████| 2494/2494 [00:05<00:00, 428.97it/s]"
     ]
    },
    {
     "name": "stdout",
     "output_type": "stream",
     "text": [
      "ACCURACY:  0.654\n"
     ]
    },
    {
     "name": "stderr",
     "output_type": "stream",
     "text": [
      "\n"
     ]
    }
   ],
   "source": [
    "#testing\n",
    "correct=0\n",
    "total=0\n",
    "with torch.no_grad():\n",
    "    for i in tqdm(range(len(test_x))):\n",
    "        real_class=torch.argmax(test_y[i])\n",
    "        net_output=net(test_x[i].view(-1,1,50,50))[0]\n",
    "        predicted_class=torch.argmax(net_output)\n",
    "        if predicted_class==real_class:\n",
    "            correct+=1\n",
    "        total+=1\n",
    "print(\"ACCURACY: \",round(correct/total,3))"
   ]
  },
  {
   "cell_type": "code",
   "execution_count": null,
   "id": "b9b568ab-2eef-40bb-8a03-7b3201cc5929",
   "metadata": {},
   "outputs": [],
   "source": []
  }
 ],
 "metadata": {
  "kernelspec": {
   "display_name": "Python 3 (ipykernel)",
   "language": "python",
   "name": "python3"
  },
  "language_info": {
   "codemirror_mode": {
    "name": "ipython",
    "version": 3
   },
   "file_extension": ".py",
   "mimetype": "text/x-python",
   "name": "python",
   "nbconvert_exporter": "python",
   "pygments_lexer": "ipython3",
   "version": "3.10.12"
  }
 },
 "nbformat": 4,
 "nbformat_minor": 5
}
